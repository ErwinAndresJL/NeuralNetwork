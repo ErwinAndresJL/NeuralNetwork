{
  "nbformat": 4,
  "nbformat_minor": 0,
  "metadata": {
    "colab": {
      "name": "NeuralNetworkByHand.ipynb",
      "provenance": []
    },
    "kernelspec": {
      "name": "python3",
      "display_name": "Python 3"
    },
    "language_info": {
      "name": "python"
    }
  },
  "cells": [
    {
      "cell_type": "markdown",
      "metadata": {
        "id": "vteHS53pFrFI"
      },
      "source": [
        "# Use google drive\n"
      ]
    },
    {
      "cell_type": "code",
      "metadata": {
        "colab": {
          "base_uri": "https://localhost:8080/"
        },
        "id": "flCSQhvI6Uj4",
        "outputId": "e605fe68-d3ac-407f-eb47-3865757e9d5b"
      },
      "source": [
        "from google.colab import drive\n",
        "drive.mount('/content/drive')"
      ],
      "execution_count": 61,
      "outputs": [
        {
          "output_type": "stream",
          "text": [
            "Drive already mounted at /content/drive; to attempt to forcibly remount, call drive.mount(\"/content/drive\", force_remount=True).\n"
          ],
          "name": "stdout"
        }
      ]
    },
    {
      "cell_type": "markdown",
      "metadata": {
        "id": "C1vRK5ht0vk1"
      },
      "source": [
        "# Import libraries"
      ]
    },
    {
      "cell_type": "code",
      "metadata": {
        "id": "F3las2HT0BW_"
      },
      "source": [
        "import numpy as np\n",
        "import matplotlib.pyplot as plt\n",
        "%matplotlib inline\n",
        "# Solamente para usuarios de Jupyter Themes\n",
        "# from jupyterthemes import jtplot\n",
        "# jtplot.style(grid=False)"
      ],
      "execution_count": 160,
      "outputs": []
    },
    {
      "cell_type": "markdown",
      "metadata": {
        "id": "s2R2YCTK07Pb"
      },
      "source": [
        "# Import MNIST - characters written by hand"
      ]
    },
    {
      "cell_type": "code",
      "metadata": {
        "id": "ybcxQ2js05bO"
      },
      "source": [
        "from get_images import get_images"
      ],
      "execution_count": 161,
      "outputs": []
    },
    {
      "cell_type": "markdown",
      "metadata": {
        "id": "4G9Ilkd0GgSK"
      },
      "source": [
        "# Save Path and get data"
      ]
    },
    {
      "cell_type": "code",
      "metadata": {
        "id": "DN8ZkqrcGTej"
      },
      "source": [
        "mnist_path = './mnist_raw/'"
      ],
      "execution_count": 162,
      "outputs": []
    },
    {
      "cell_type": "code",
      "metadata": {
        "id": "wmI1xQukGzvw"
      },
      "source": [
        "x_train_num, y_train_num, x_test_num, y_test_num = get_images(mnist_path)"
      ],
      "execution_count": 163,
      "outputs": []
    },
    {
      "cell_type": "code",
      "metadata": {
        "colab": {
          "base_uri": "https://localhost:8080/"
        },
        "id": "hUkUyx1SHCWX",
        "outputId": "4fbd9bc2-41f2-4826-b255-28acf58390d3"
      },
      "source": [
        "x_test_num.shape"
      ],
      "execution_count": 66,
      "outputs": [
        {
          "output_type": "execute_result",
          "data": {
            "text/plain": [
              "(10000, 28, 28)"
            ]
          },
          "metadata": {
            "tags": []
          },
          "execution_count": 66
        }
      ]
    },
    {
      "cell_type": "markdown",
      "metadata": {
        "id": "IysHIlAlHrC0"
      },
      "source": [
        "# Convert images in vectors float32"
      ]
    },
    {
      "cell_type": "code",
      "metadata": {
        "colab": {
          "base_uri": "https://localhost:8080/"
        },
        "id": "geWEvnfmHvga",
        "outputId": "93422b73-a447-4518-d837-dbbf11b98686"
      },
      "source": [
        "x_train = x_train_num[:50000].reshape(50000, -1).astype(np.float32)/255\n",
        "y_train = y_train_num[:50000].reshape(50000, 1)\n",
        "\n",
        "x_val = x_train_num[50000:].reshape(10000, -1).astype(np.float)/255\n",
        "y_val = y_train_num[50000:].reshape(10000, 1)\n",
        "\n",
        "x_test = x_test_num.copy().reshape(10000, -1).astype(np.float)/255\n",
        "y_test = y_test_num.copy().reshape(10000, 1)\n",
        "\n",
        "x_train.shape"
      ],
      "execution_count": 164,
      "outputs": [
        {
          "output_type": "execute_result",
          "data": {
            "text/plain": [
              "(50000, 784)"
            ]
          },
          "metadata": {
            "tags": []
          },
          "execution_count": 164
        }
      ]
    },
    {
      "cell_type": "markdown",
      "metadata": {
        "id": "Lbi6CILOJxFk"
      },
      "source": [
        "# Plot some images"
      ]
    },
    {
      "cell_type": "code",
      "metadata": {
        "colab": {
          "base_uri": "https://localhost:8080/",
          "height": 265
        },
        "id": "oOJhxNwOKsnf",
        "outputId": "3a6ab042-f380-4c35-daf4-b56972bd4dd2"
      },
      "source": [
        "def plot_number(image):\n",
        "  plt.imshow(image.squeeze(), cmap=plt.get_cmap('gray'))\n",
        "  plt.axis('off')\n",
        "  plt.show()\n",
        "\n",
        "rnd_idx = np.random.randint(len(y_test))\n",
        "print(f'La imagen muestreada representa un: {y_test[rnd_idx]}')\n",
        "plot_number(x_test_num[rnd_idx])"
      ],
      "execution_count": 166,
      "outputs": [
        {
          "output_type": "stream",
          "text": [
            "La imagen muestreada representa un: [6]\n"
          ],
          "name": "stdout"
        },
        {
          "output_type": "display_data",
          "data": {
            "image/png": "[encoded data removed]",
            "text/plain": [
              "<Figure size 432x288 with 1 Axes>"
            ]
          },
          "metadata": {
            "tags": [],
            "needs_background": "light"
          }
        }
      ]
    },
    {
      "cell_type": "markdown",
      "metadata": {
        "id": "eSB2x4wWOK7h"
      },
      "source": [
        "# Create MiniBatch"
      ]
    },
    {
      "cell_type": "code",
      "metadata": {
        "id": "9lZnAMtCOJXB"
      },
      "source": [
        "def create_minibatches(mb_size, x, y, shuffle = True):\n",
        "  assert x.shape[0] == y.shape[0], 'error en cantidad de muestras'\n",
        "  total_data = x.shape[0]\n",
        "  if shuffle:\n",
        "    idxs = np.arange(total_data)\n",
        "    np.random.shuffle(idxs)\n",
        "    x = x[idxs]\n",
        "    y = y[idxs]\n",
        "\n",
        "  return ((x[i:i+mb_size], y[i:i+mb_size]) for i in range (0, total_data, mb_size))"
      ],
      "execution_count": 167,
      "outputs": []
    },
    {
      "cell_type": "markdown",
      "metadata": {
        "id": "Ku3q-QsVQXlo"
      },
      "source": [
        "# Init Parameters"
      ]
    },
    {
      "cell_type": "code",
      "metadata": {
        "id": "RAY3TnIkQZMh"
      },
      "source": [
        "def init_parameters(input_size, neurons):\n",
        "  '''\n",
        "  input size -> elementos de entrada, 784\n",
        "  neurons -> list [] con cantidad de neuronas en cada capa\n",
        "\n",
        "  mejores técnicas para redes más grandes\n",
        "  '''\n",
        "\n",
        "  W1 = np.random.randn(neurons[0], input_size) * 0.001\n",
        "  b1 = np.zeros((neurons[0], 1))\n",
        "\n",
        "  W2 = np.random.randn(neurons[1], neurons[0]) * 0.001\n",
        "  b2 = np.zeros((neurons[1], 1))\n",
        "\n",
        "  return {'W1': W1, 'b1':b1,'W2':W2, 'b2': b2}\n"
      ],
      "execution_count": 169,
      "outputs": []
    },
    {
      "cell_type": "code",
      "metadata": {
        "colab": {
          "base_uri": "https://localhost:8080/"
        },
        "id": "8-6Aueu0R6jP",
        "outputId": "696847a7-b31c-42b1-b881-f4a1fb52af8c"
      },
      "source": [
        "parameters = init_parameters(28*28, [200, 10])\n",
        "print(parameters['W1'].shape)\n",
        "print(parameters['W2'].shape)\n",
        "print(parameters['b1'].shape)\n",
        "print(parameters['b2'].shape)"
      ],
      "execution_count": 171,
      "outputs": [
        {
          "output_type": "stream",
          "text": [
            "(200, 784)\n",
            "(10, 200)\n",
            "(200, 1)\n",
            "(10, 1)\n"
          ],
          "name": "stdout"
        }
      ]
    },
    {
      "cell_type": "markdown",
      "metadata": {
        "id": "somUNNp7SeUQ"
      },
      "source": [
        "# Relu and Score Functions"
      ]
    },
    {
      "cell_type": "code",
      "metadata": {
        "id": "7vRshSf1Sf7j"
      },
      "source": [
        "def relu(x):\n",
        "  return np.maximum(0, x)"
      ],
      "execution_count": 184,
      "outputs": []
    },
    {
      "cell_type": "code",
      "metadata": {
        "id": "8EfdKzV1Syie"
      },
      "source": [
        "def scores(x, parameters, activation_fcn):\n",
        "  z1 = parameters['W1'] @ x + parameters['b1']\n",
        "  a1 = activation_fcn(z1) # devuelve fcn de activación\n",
        "  z2 = parameters['W2'] @ a1 + parameters['b2']\n",
        "\n",
        "  return z2, z1, a1"
      ],
      "execution_count": 185,
      "outputs": []
    },
    {
      "cell_type": "code",
      "metadata": {
        "id": "hwP64-f_TdZF"
      },
      "source": [
        "scores, z1, a1 = scores(x_train[:64].T, parameters, relu)"
      ],
      "execution_count": 186,
      "outputs": []
    },
    {
      "cell_type": "code",
      "metadata": {
        "colab": {
          "base_uri": "https://localhost:8080/"
        },
        "id": "1b2OpqCnTmLe",
        "outputId": "98425782-c38a-4abe-fc24-8f5635792d17"
      },
      "source": [
        "x_train[:64].shape"
      ],
      "execution_count": 174,
      "outputs": [
        {
          "output_type": "execute_result",
          "data": {
            "text/plain": [
              "(64, 784)"
            ]
          },
          "metadata": {
            "tags": []
          },
          "execution_count": 174
        }
      ]
    },
    {
      "cell_type": "markdown",
      "metadata": {
        "id": "YL6GMhh0U1ZE"
      },
      "source": [
        "# Softmax Function"
      ]
    },
    {
      "cell_type": "code",
      "metadata": {
        "id": "Iqjjy2LVU4p0"
      },
      "source": [
        "def softmax(x):\n",
        "  exp_scores = np.exp(x)\n",
        "  sum_exp_scores = np.sum(exp_scores, axis=0)\n",
        "  probs = exp_scores/sum_exp_scores\n",
        "  return probs\n"
      ],
      "execution_count": 187,
      "outputs": []
    },
    {
      "cell_type": "markdown",
      "metadata": {
        "id": "ysV6tu1FVkhB"
      },
      "source": [
        "# Loss Function - Crossentropy"
      ]
    },
    {
      "cell_type": "code",
      "metadata": {
        "id": "ia9iNK8eVqD9"
      },
      "source": [
        "def x_entropy(scores, y, batch_size=64):\n",
        "  probs = softmax(scores)\n",
        "  y_hat = probs[y.squeeze(), np.arange(batch_size)]\n",
        "  cost = np.sum(-np.log(y_hat)) / batch_size\n",
        "\n",
        "  return probs, cost\n"
      ],
      "execution_count": 188,
      "outputs": []
    },
    {
      "cell_type": "code",
      "metadata": {
        "id": "nebeOUyDbpKD"
      },
      "source": [
        "y_hat, cost = x_entropy(scores, y_train[:64])"
      ],
      "execution_count": 189,
      "outputs": []
    },
    {
      "cell_type": "code",
      "metadata": {
        "colab": {
          "base_uri": "https://localhost:8080/"
        },
        "id": "I1-_T9M5e3eH",
        "outputId": "0f54b506-4f9b-4ef8-a2ee-3177bfdf520f"
      },
      "source": [
        "y_hat.shape"
      ],
      "execution_count": 190,
      "outputs": [
        {
          "output_type": "execute_result",
          "data": {
            "text/plain": [
              "(10, 64)"
            ]
          },
          "metadata": {
            "tags": []
          },
          "execution_count": 190
        }
      ]
    },
    {
      "cell_type": "markdown",
      "metadata": {
        "id": "Hqm4bF0aWctl"
      },
      "source": [
        "# Backward Function"
      ]
    },
    {
      "cell_type": "code",
      "metadata": {
        "id": "gDavCVonWgIa"
      },
      "source": [
        "def backward(probs, x, y, z1, a1, parameters, batch_size=64):\n",
        "  grads = {}\n",
        "  probs[y.squeeze(), np.arange(batch_size)] -= 1 # y-hat - y\n",
        "  dz2 = probs.copy()\n",
        "\n",
        "  dW2 = dz2 @ a1.T / batch_size\n",
        "  db2 = np.sum(dz2, axis = 1, keepdims = True) / batch_size\n",
        "  da1 = parameters ['W2'].T @ dz2\n",
        "\n",
        "  dz1 = da1.copy()\n",
        "  dz1[z1 <= 0] = 0\n",
        "\n",
        "  dW1 = dz1 @ x\n",
        "  db1 = np.sum(dz1, axis=1, keepdims=True)\n",
        "\n",
        "  assert parameters['W1'].shape == dW1.shape, 'W1 no es igual forma'\n",
        "  assert parameters['W2'].shape == dW2.shape, 'W2 no es igual forma'\n",
        "  assert parameters['b1'].shape == db1.shape, 'b1 no es igual forma'\n",
        "  assert parameters['b2'].shape == db2.shape, 'b2 no es igual forma'\n",
        "\n",
        "  grads = {'w1': dW1, 'b1':db1,'W2':dW2, 'b2': db2}\n",
        "\n",
        "  return grads\n"
      ],
      "execution_count": 179,
      "outputs": []
    },
    {
      "cell_type": "code",
      "metadata": {
        "id": "YXEz9S6obPXg"
      },
      "source": [
        "grads = backward(y_hat, x_train[:64], y_train[:64], z1, a1, parameters)"
      ],
      "execution_count": 180,
      "outputs": []
    },
    {
      "cell_type": "markdown",
      "metadata": {
        "id": "f6nlazqxhvp6"
      },
      "source": [
        "# Accuracy Function"
      ]
    },
    {
      "cell_type": "code",
      "metadata": {
        "id": "d5oF7RO2hxZm"
      },
      "source": [
        "def accuracy(x_data, y_data, mb_size=64):\n",
        "  correct=0\n",
        "  total=0\n",
        "  for i, (x, y) in enumerate(create_minibatches(mb_size, x_data, y_data)):\n",
        "    scores2, z1, a1 = scores(x.T, parameters, relu)\n",
        "    y_hat, cost = x_entropy(scores2, y, batch_size=len(x))\n",
        "\n",
        "    correct += np.sum(np.argmax(y_hat, axis=0) == y.squeeze())\n",
        "    total += y_hat.shape[1]\n",
        "  return correct/total"
      ],
      "execution_count": 181,
      "outputs": []
    },
    {
      "cell_type": "markdown",
      "metadata": {
        "id": "RfBKF3bji5Dn"
      },
      "source": [
        "# Train Function"
      ]
    },
    {
      "cell_type": "code",
      "metadata": {
        "id": "GG_3kHLyi6vV"
      },
      "source": [
        "def train (epochs, parameters, mb_size=64, learning_rate = 1e-3):\n",
        "  for epoch in range(epochs):\n",
        "    for i, (x, y) in enumerate(create_minibatches(mb_size, x_train, y_train)):\n",
        "      scores2, z1, a1 = scores(x.T, parameters=parameters, activation_fcn=relu)\n",
        "      y_hat, cost = x_entropy(scores2, y, batch_size=len(x))\n",
        "      grads = backward(y_hat, x, y, z1, a1, parameters, batch_size=len(x))\n",
        "\n",
        "      parameters['W1'] = parameters['W1'] - learning_rate*grads['w1']\n",
        "      parameters['b1'] = parameters['b1'] - learning_rate*grads['b1']\n",
        "      parameters['b2'] = parameters['b2'] - learning_rate*grads['b2']\n",
        "      parameters['W2'] = parameters['W2'] - learning_rate*grads['W2']\n",
        "\n",
        "    print(f'costo es: {cost}, y accuracy: {accuracy(x_val,y_val, mb_size)}')\n",
        "  return parameters"
      ],
      "execution_count": 182,
      "outputs": []
    },
    {
      "cell_type": "code",
      "metadata": {
        "colab": {
          "base_uri": "https://localhost:8080/"
        },
        "id": "7vhUiu4Rmk31",
        "outputId": "3b9fe8a9-d061-44df-c98f-f0b2dc776348"
      },
      "source": [
        "mb_size = 512\n",
        "learning_rate = 1e-2\n",
        "epochs = 1\n",
        "parameters = train(epochs=epochs, parameters=parameters, mb_size=mb_size, learning_rate=learning_rate)"
      ],
      "execution_count": 183,
      "outputs": [
        {
          "output_type": "stream",
          "text": [
            "costo es: 0.5051899036913492, y accuracy: 0.8649\n"
          ],
          "name": "stdout"
        }
      ]
    },
    {
      "cell_type": "markdown",
      "metadata": {
        "id": "W6GtLk4qqU6H"
      },
      "source": [
        "# Datos de prueba"
      ]
    },
    {
      "cell_type": "code",
      "metadata": {
        "colab": {
          "base_uri": "https://localhost:8080/"
        },
        "id": "M2Rq0zrbqYc_",
        "outputId": "c90a10ad-4a7e-45bc-ca08-c4ac0c95751c"
      },
      "source": [
        "accuracy(x_train, y_train, mb_size)"
      ],
      "execution_count": 158,
      "outputs": [
        {
          "output_type": "execute_result",
          "data": {
            "text/plain": [
              "0.98656"
            ]
          },
          "metadata": {
            "tags": []
          },
          "execution_count": 158
        }
      ]
    },
    {
      "cell_type": "code",
      "metadata": {
        "colab": {
          "base_uri": "https://localhost:8080/"
        },
        "id": "Z41nC87Pqnug",
        "outputId": "3374dbd1-a9c3-450d-a482-e7cef4f04a51"
      },
      "source": [
        "accuracy(x_test, y_test, mb_size)"
      ],
      "execution_count": 159,
      "outputs": [
        {
          "output_type": "execute_result",
          "data": {
            "text/plain": [
              "0.9755"
            ]
          },
          "metadata": {
            "tags": []
          },
          "execution_count": 159
        }
      ]
    },
    {
      "cell_type": "markdown",
      "metadata": {
        "id": "R3XTBn2Yq8VQ"
      },
      "source": [
        "# Predicciones"
      ]
    },
    {
      "cell_type": "code",
      "metadata": {
        "colab": {
          "base_uri": "https://localhost:8080/",
          "height": 265
        },
        "id": "WtkaTRaiq-6J",
        "outputId": "cb8b28a6-7d8e-458b-b2b2-0c86c70d54c3"
      },
      "source": [
        "def predict(x):\n",
        "  scores2, _, _ = scores(x, parameters, relu)\n",
        "  return np.argmax(scores2)\n",
        "\n",
        "x_test[0].reshape(-1, 1).shape\n",
        "\n",
        "idx = np.random.randint(len(y_test))\n",
        "plot_number(x_test_num[idx])\n",
        "pred = predict(x_test[idx].reshape(-1, 1))\n",
        "print(f'el valor predicho es: {pred}')"
      ],
      "execution_count": 155,
      "outputs": [
        {
          "output_type": "display_data",
          "data": {
            "image/png": "[encoded data removed]",
            "text/plain": [
              "<Figure size 432x288 with 1 Axes>"
            ]
          },
          "metadata": {
            "tags": [],
            "needs_background": "light"
          }
        },
        {
          "output_type": "stream",
          "text": [
            "el valor predicho es: 8\n"
          ],
          "name": "stdout"
        }
      ]
    }
  ]
}